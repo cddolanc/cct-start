{
  "nbformat": 4,
  "nbformat_minor": 0,
  "metadata": {
    "kernelspec": {
      "display_name": "Python 3",
      "language": "python",
      "name": "python3"
    },
    "language_info": {
      "codemirror_mode": {
        "name": "ipython",
        "version": 3
      },
      "file_extension": ".py",
      "mimetype": "text/x-python",
      "name": "python",
      "nbconvert_exporter": "python",
      "pygments_lexer": "ipython3",
      "version": "3.8.5"
    },
    "colab": {
      "name": "House_Price_Predictor.ipynb",
      "provenance": [],
      "toc_visible": true,
      "include_colab_link": true
    }
  },
  "cells": [
    {
      "cell_type": "markdown",
      "metadata": {
        "id": "view-in-github",
        "colab_type": "text"
      },
      "source": [
        "<a href=\"https://colab.research.google.com/github/cddolanc/cct-start/blob/main/House_Price_Predictor.ipynb\" target=\"_parent\"><img src=\"https://colab.research.google.com/assets/colab-badge.svg\" alt=\"Open In Colab\"/></a>"
      ]
    },
    {
      "cell_type": "code",
      "metadata": {
        "id": "zvU_SHPGIfsp"
      },
      "source": [
        "import pandas as pd\n",
        "import numpy as np\n",
        "import keras\n",
        "from sklearn.model_selection import train_test_split\n",
        "from sklearn.preprocessing import MinMaxScaler\n",
        "from keras.layers import Dense, Dropout\n",
        "from keras.models import Sequential\n",
        "from keras.optimizers import Adam"
      ],
      "execution_count": 1,
      "outputs": []
    },
    {
      "cell_type": "code",
      "metadata": {
        "id": "clEt2WJJIfs4"
      },
      "source": [
        "dataset = pd.read_csv('kc_house_data.csv')"
      ],
      "execution_count": 2,
      "outputs": []
    },
    {
      "cell_type": "code",
      "metadata": {
        "colab": {
          "base_uri": "https://localhost:8080/",
          "height": 224
        },
        "id": "V_8DvdXEIfs9",
        "outputId": "f82bb5bf-fccc-4535-fb83-0c81501bbb0c"
      },
      "source": [
        "dataset.head()"
      ],
      "execution_count": 3,
      "outputs": [
        {
          "output_type": "execute_result",
          "data": {
            "text/html": [
              "<div>\n",
              "<style scoped>\n",
              "    .dataframe tbody tr th:only-of-type {\n",
              "        vertical-align: middle;\n",
              "    }\n",
              "\n",
              "    .dataframe tbody tr th {\n",
              "        vertical-align: top;\n",
              "    }\n",
              "\n",
              "    .dataframe thead th {\n",
              "        text-align: right;\n",
              "    }\n",
              "</style>\n",
              "<table border=\"1\" class=\"dataframe\">\n",
              "  <thead>\n",
              "    <tr style=\"text-align: right;\">\n",
              "      <th></th>\n",
              "      <th>id</th>\n",
              "      <th>date</th>\n",
              "      <th>price</th>\n",
              "      <th>bedrooms</th>\n",
              "      <th>bathrooms</th>\n",
              "      <th>sqft_living</th>\n",
              "      <th>sqft_lot</th>\n",
              "      <th>floors</th>\n",
              "      <th>waterfront</th>\n",
              "      <th>view</th>\n",
              "      <th>condition</th>\n",
              "      <th>grade</th>\n",
              "      <th>sqft_above</th>\n",
              "      <th>sqft_basement</th>\n",
              "      <th>yr_built</th>\n",
              "      <th>yr_renovated</th>\n",
              "      <th>zipcode</th>\n",
              "      <th>lat</th>\n",
              "      <th>long</th>\n",
              "      <th>sqft_living15</th>\n",
              "      <th>sqft_lot15</th>\n",
              "    </tr>\n",
              "  </thead>\n",
              "  <tbody>\n",
              "    <tr>\n",
              "      <th>0</th>\n",
              "      <td>7129300520</td>\n",
              "      <td>20141013T000000</td>\n",
              "      <td>221900.0</td>\n",
              "      <td>3</td>\n",
              "      <td>1.00</td>\n",
              "      <td>1180</td>\n",
              "      <td>5650</td>\n",
              "      <td>1.0</td>\n",
              "      <td>0</td>\n",
              "      <td>0</td>\n",
              "      <td>3</td>\n",
              "      <td>7</td>\n",
              "      <td>1180</td>\n",
              "      <td>0</td>\n",
              "      <td>1955</td>\n",
              "      <td>0</td>\n",
              "      <td>98178</td>\n",
              "      <td>47.5112</td>\n",
              "      <td>-122.257</td>\n",
              "      <td>1340</td>\n",
              "      <td>5650</td>\n",
              "    </tr>\n",
              "    <tr>\n",
              "      <th>1</th>\n",
              "      <td>6414100192</td>\n",
              "      <td>20141209T000000</td>\n",
              "      <td>538000.0</td>\n",
              "      <td>3</td>\n",
              "      <td>2.25</td>\n",
              "      <td>2570</td>\n",
              "      <td>7242</td>\n",
              "      <td>2.0</td>\n",
              "      <td>0</td>\n",
              "      <td>0</td>\n",
              "      <td>3</td>\n",
              "      <td>7</td>\n",
              "      <td>2170</td>\n",
              "      <td>400</td>\n",
              "      <td>1951</td>\n",
              "      <td>1991</td>\n",
              "      <td>98125</td>\n",
              "      <td>47.7210</td>\n",
              "      <td>-122.319</td>\n",
              "      <td>1690</td>\n",
              "      <td>7639</td>\n",
              "    </tr>\n",
              "    <tr>\n",
              "      <th>2</th>\n",
              "      <td>5631500400</td>\n",
              "      <td>20150225T000000</td>\n",
              "      <td>180000.0</td>\n",
              "      <td>2</td>\n",
              "      <td>1.00</td>\n",
              "      <td>770</td>\n",
              "      <td>10000</td>\n",
              "      <td>1.0</td>\n",
              "      <td>0</td>\n",
              "      <td>0</td>\n",
              "      <td>3</td>\n",
              "      <td>6</td>\n",
              "      <td>770</td>\n",
              "      <td>0</td>\n",
              "      <td>1933</td>\n",
              "      <td>0</td>\n",
              "      <td>98028</td>\n",
              "      <td>47.7379</td>\n",
              "      <td>-122.233</td>\n",
              "      <td>2720</td>\n",
              "      <td>8062</td>\n",
              "    </tr>\n",
              "    <tr>\n",
              "      <th>3</th>\n",
              "      <td>2487200875</td>\n",
              "      <td>20141209T000000</td>\n",
              "      <td>604000.0</td>\n",
              "      <td>4</td>\n",
              "      <td>3.00</td>\n",
              "      <td>1960</td>\n",
              "      <td>5000</td>\n",
              "      <td>1.0</td>\n",
              "      <td>0</td>\n",
              "      <td>0</td>\n",
              "      <td>5</td>\n",
              "      <td>7</td>\n",
              "      <td>1050</td>\n",
              "      <td>910</td>\n",
              "      <td>1965</td>\n",
              "      <td>0</td>\n",
              "      <td>98136</td>\n",
              "      <td>47.5208</td>\n",
              "      <td>-122.393</td>\n",
              "      <td>1360</td>\n",
              "      <td>5000</td>\n",
              "    </tr>\n",
              "    <tr>\n",
              "      <th>4</th>\n",
              "      <td>1954400510</td>\n",
              "      <td>20150218T000000</td>\n",
              "      <td>510000.0</td>\n",
              "      <td>3</td>\n",
              "      <td>2.00</td>\n",
              "      <td>1680</td>\n",
              "      <td>8080</td>\n",
              "      <td>1.0</td>\n",
              "      <td>0</td>\n",
              "      <td>0</td>\n",
              "      <td>3</td>\n",
              "      <td>8</td>\n",
              "      <td>1680</td>\n",
              "      <td>0</td>\n",
              "      <td>1987</td>\n",
              "      <td>0</td>\n",
              "      <td>98074</td>\n",
              "      <td>47.6168</td>\n",
              "      <td>-122.045</td>\n",
              "      <td>1800</td>\n",
              "      <td>7503</td>\n",
              "    </tr>\n",
              "  </tbody>\n",
              "</table>\n",
              "</div>"
            ],
            "text/plain": [
              "           id             date     price  ...     long  sqft_living15  sqft_lot15\n",
              "0  7129300520  20141013T000000  221900.0  ... -122.257           1340        5650\n",
              "1  6414100192  20141209T000000  538000.0  ... -122.319           1690        7639\n",
              "2  5631500400  20150225T000000  180000.0  ... -122.233           2720        8062\n",
              "3  2487200875  20141209T000000  604000.0  ... -122.393           1360        5000\n",
              "4  1954400510  20150218T000000  510000.0  ... -122.045           1800        7503\n",
              "\n",
              "[5 rows x 21 columns]"
            ]
          },
          "metadata": {
            "tags": []
          },
          "execution_count": 3
        }
      ]
    },
    {
      "cell_type": "code",
      "metadata": {
        "id": "YjspCewqIftA"
      },
      "source": [
        "X = dataset.iloc[:, 3:].values\n",
        "X = X[:, np.r_[0:13,14:18]] # get rid of row 13 continue X from 14 to 18\n",
        "y = dataset.iloc[:, 2].values\n"
      ],
      "execution_count": 4,
      "outputs": []
    },
    {
      "cell_type": "code",
      "metadata": {
        "colab": {
          "base_uri": "https://localhost:8080/"
        },
        "id": "2rtaUI-kNQBF",
        "outputId": "8fb97c33-bced-4352-ee45-9c715e7e1512"
      },
      "source": [
        "X # columns"
      ],
      "execution_count": 5,
      "outputs": [
        {
          "output_type": "execute_result",
          "data": {
            "text/plain": [
              "array([[ 3.00000e+00,  1.00000e+00,  1.18000e+03, ..., -1.22257e+02,\n",
              "         1.34000e+03,  5.65000e+03],\n",
              "       [ 3.00000e+00,  2.25000e+00,  2.57000e+03, ..., -1.22319e+02,\n",
              "         1.69000e+03,  7.63900e+03],\n",
              "       [ 2.00000e+00,  1.00000e+00,  7.70000e+02, ..., -1.22233e+02,\n",
              "         2.72000e+03,  8.06200e+03],\n",
              "       ...,\n",
              "       [ 2.00000e+00,  7.50000e-01,  1.02000e+03, ..., -1.22299e+02,\n",
              "         1.02000e+03,  2.00700e+03],\n",
              "       [ 3.00000e+00,  2.50000e+00,  1.60000e+03, ..., -1.22069e+02,\n",
              "         1.41000e+03,  1.28700e+03],\n",
              "       [ 2.00000e+00,  7.50000e-01,  1.02000e+03, ..., -1.22299e+02,\n",
              "         1.02000e+03,  1.35700e+03]])"
            ]
          },
          "metadata": {
            "tags": []
          },
          "execution_count": 5
        }
      ]
    },
    {
      "cell_type": "code",
      "metadata": {
        "colab": {
          "base_uri": "https://localhost:8080/"
        },
        "id": "r3RbEwzrNtdZ",
        "outputId": "c590907d-ddf6-4f5a-c9c5-0d0cb9239bed"
      },
      "source": [
        "y # price"
      ],
      "execution_count": 6,
      "outputs": [
        {
          "output_type": "execute_result",
          "data": {
            "text/plain": [
              "array([221900., 538000., 180000., ..., 402101., 400000., 325000.])"
            ]
          },
          "metadata": {
            "tags": []
          },
          "execution_count": 6
        }
      ]
    },
    {
      "cell_type": "code",
      "metadata": {
        "id": "2LPWoW_WIftC"
      },
      "source": [
        "X_train, X_test, y_train, y_test = train_test_split(X, y, test_size = 0.2, random_state = 0) #"
      ],
      "execution_count": 7,
      "outputs": []
    },
    {
      "cell_type": "markdown",
      "metadata": {
        "id": "QIWtgAzBOA24"
      },
      "source": [
        "X y train  test size is 0.2 or 20%"
      ]
    },
    {
      "cell_type": "code",
      "metadata": {
        "id": "7o0Qvl5pIftD"
      },
      "source": [
        "xscaler = MinMaxScaler(feature_range = (0,1))\n",
        "X_train = xscaler.fit_transform(X_train) # xscaler set here\n",
        "X_test = xscaler.transform(X_test)"
      ],
      "execution_count": 8,
      "outputs": []
    },
    {
      "cell_type": "markdown",
      "metadata": {
        "id": "BsJEyfzEQODP"
      },
      "source": [
        "Scale your data between 0 and 1\n"
      ]
    },
    {
      "cell_type": "code",
      "metadata": {
        "id": "Dj3MtkR7IftM"
      },
      "source": [
        "yscaler = MinMaxScaler(feature_range = (0,1))\n",
        "y_train = yscaler.fit_transform(y_train.reshape(-1,1)) # yscaler set here\n",
        "y_test = yscaler.transform(y_test.reshape(-1,1))"
      ],
      "execution_count": 9,
      "outputs": []
    },
    {
      "cell_type": "code",
      "metadata": {
        "id": "EB05LII2IftN"
      },
      "source": [
        "model = Sequential() # create a dense neural network\n",
        "model.add(Dense(units = 64, kernel_initializer = 'uniform', activation = 'relu', input_dim = 17)) # layer 1, 17 features\n",
        "model.add(Dense(units = 16, kernel_initializer = 'uniform', activation = 'relu')) # layer 2\n",
        "model.add(Dense(units = 1, kernel_initializer = 'uniform', activation = 'relu')) # layer 3\n",
        "model.compile(optimizer = Adam(lr = 0.001), loss = 'mse', metrics = ['mean_absolute_error']) # optimizer Adam used"
      ],
      "execution_count": 10,
      "outputs": []
    },
    {
      "cell_type": "code",
      "metadata": {
        "colab": {
          "base_uri": "https://localhost:8080/"
        },
        "id": "CS_u-PJUIftO",
        "outputId": "e1fbe389-cf04-4784-b249-41474bf20f71"
      },
      "source": [
        "model.fit(X_train, y_train, batch_size = 32, epochs = 100, validation_data = (X_test, y_test))"
      ],
      "execution_count": 11,
      "outputs": [
        {
          "output_type": "stream",
          "text": [
            "Epoch 1/100\n",
            "541/541 [==============================] - 2s 3ms/step - loss: 0.0017 - mean_absolute_error: 0.0259 - val_loss: 6.1505e-04 - val_mean_absolute_error: 0.0161\n",
            "Epoch 2/100\n",
            "541/541 [==============================] - 1s 2ms/step - loss: 6.4487e-04 - mean_absolute_error: 0.0157 - val_loss: 5.2875e-04 - val_mean_absolute_error: 0.0145\n",
            "Epoch 3/100\n",
            "541/541 [==============================] - 1s 2ms/step - loss: 6.0613e-04 - mean_absolute_error: 0.0152 - val_loss: 5.0388e-04 - val_mean_absolute_error: 0.0136\n",
            "Epoch 4/100\n",
            "541/541 [==============================] - 1s 2ms/step - loss: 5.6836e-04 - mean_absolute_error: 0.0146 - val_loss: 4.9963e-04 - val_mean_absolute_error: 0.0141\n",
            "Epoch 5/100\n",
            "541/541 [==============================] - 1s 2ms/step - loss: 5.6055e-04 - mean_absolute_error: 0.0146 - val_loss: 4.8122e-04 - val_mean_absolute_error: 0.0137\n",
            "Epoch 6/100\n",
            "541/541 [==============================] - 1s 2ms/step - loss: 5.4102e-04 - mean_absolute_error: 0.0144 - val_loss: 4.7531e-04 - val_mean_absolute_error: 0.0135\n",
            "Epoch 7/100\n",
            "541/541 [==============================] - 1s 2ms/step - loss: 5.2869e-04 - mean_absolute_error: 0.0145 - val_loss: 4.7743e-04 - val_mean_absolute_error: 0.0136\n",
            "Epoch 8/100\n",
            "541/541 [==============================] - 1s 2ms/step - loss: 4.8944e-04 - mean_absolute_error: 0.0141 - val_loss: 4.9269e-04 - val_mean_absolute_error: 0.0141\n",
            "Epoch 9/100\n",
            "541/541 [==============================] - 1s 2ms/step - loss: 4.7448e-04 - mean_absolute_error: 0.0140 - val_loss: 4.5557e-04 - val_mean_absolute_error: 0.0134\n",
            "Epoch 10/100\n",
            "541/541 [==============================] - 1s 2ms/step - loss: 4.6347e-04 - mean_absolute_error: 0.0138 - val_loss: 4.4331e-04 - val_mean_absolute_error: 0.0130\n",
            "Epoch 11/100\n",
            "541/541 [==============================] - 1s 2ms/step - loss: 5.1144e-04 - mean_absolute_error: 0.0141 - val_loss: 4.6237e-04 - val_mean_absolute_error: 0.0136\n",
            "Epoch 12/100\n",
            "541/541 [==============================] - 1s 2ms/step - loss: 4.6796e-04 - mean_absolute_error: 0.0138 - val_loss: 5.3812e-04 - val_mean_absolute_error: 0.0163\n",
            "Epoch 13/100\n",
            "541/541 [==============================] - 1s 2ms/step - loss: 4.6798e-04 - mean_absolute_error: 0.0135 - val_loss: 4.5376e-04 - val_mean_absolute_error: 0.0136\n",
            "Epoch 14/100\n",
            "541/541 [==============================] - 1s 2ms/step - loss: 4.7318e-04 - mean_absolute_error: 0.0134 - val_loss: 4.1982e-04 - val_mean_absolute_error: 0.0123\n",
            "Epoch 15/100\n",
            "541/541 [==============================] - 1s 2ms/step - loss: 4.4362e-04 - mean_absolute_error: 0.0134 - val_loss: 4.2797e-04 - val_mean_absolute_error: 0.0121\n",
            "Epoch 16/100\n",
            "541/541 [==============================] - 1s 2ms/step - loss: 4.3766e-04 - mean_absolute_error: 0.0130 - val_loss: 4.1207e-04 - val_mean_absolute_error: 0.0129\n",
            "Epoch 17/100\n",
            "541/541 [==============================] - 1s 2ms/step - loss: 4.0207e-04 - mean_absolute_error: 0.0125 - val_loss: 3.8504e-04 - val_mean_absolute_error: 0.0119\n",
            "Epoch 18/100\n",
            "541/541 [==============================] - 1s 2ms/step - loss: 4.2778e-04 - mean_absolute_error: 0.0126 - val_loss: 3.8572e-04 - val_mean_absolute_error: 0.0120\n",
            "Epoch 19/100\n",
            "541/541 [==============================] - 1s 2ms/step - loss: 4.3781e-04 - mean_absolute_error: 0.0126 - val_loss: 3.6694e-04 - val_mean_absolute_error: 0.0115\n",
            "Epoch 20/100\n",
            "541/541 [==============================] - 1s 2ms/step - loss: 3.7472e-04 - mean_absolute_error: 0.0122 - val_loss: 4.1165e-04 - val_mean_absolute_error: 0.0130\n",
            "Epoch 21/100\n",
            "541/541 [==============================] - 1s 2ms/step - loss: 3.6943e-04 - mean_absolute_error: 0.0121 - val_loss: 3.5648e-04 - val_mean_absolute_error: 0.0113\n",
            "Epoch 22/100\n",
            "541/541 [==============================] - 1s 2ms/step - loss: 3.7824e-04 - mean_absolute_error: 0.0118 - val_loss: 3.6258e-04 - val_mean_absolute_error: 0.0110\n",
            "Epoch 23/100\n",
            "541/541 [==============================] - 1s 2ms/step - loss: 3.9296e-04 - mean_absolute_error: 0.0121 - val_loss: 3.3999e-04 - val_mean_absolute_error: 0.0109\n",
            "Epoch 24/100\n",
            "541/541 [==============================] - 1s 2ms/step - loss: 3.7844e-04 - mean_absolute_error: 0.0117 - val_loss: 3.6074e-04 - val_mean_absolute_error: 0.0120\n",
            "Epoch 25/100\n",
            "541/541 [==============================] - 1s 2ms/step - loss: 3.6984e-04 - mean_absolute_error: 0.0118 - val_loss: 3.3341e-04 - val_mean_absolute_error: 0.0106\n",
            "Epoch 26/100\n",
            "541/541 [==============================] - 1s 2ms/step - loss: 3.4218e-04 - mean_absolute_error: 0.0113 - val_loss: 3.2016e-04 - val_mean_absolute_error: 0.0104\n",
            "Epoch 27/100\n",
            "541/541 [==============================] - 1s 2ms/step - loss: 3.3362e-04 - mean_absolute_error: 0.0112 - val_loss: 3.2518e-04 - val_mean_absolute_error: 0.0105\n",
            "Epoch 28/100\n",
            "541/541 [==============================] - 1s 2ms/step - loss: 3.3851e-04 - mean_absolute_error: 0.0112 - val_loss: 3.1434e-04 - val_mean_absolute_error: 0.0103\n",
            "Epoch 29/100\n",
            "541/541 [==============================] - 1s 2ms/step - loss: 3.2210e-04 - mean_absolute_error: 0.0109 - val_loss: 3.1608e-04 - val_mean_absolute_error: 0.0105\n",
            "Epoch 30/100\n",
            "541/541 [==============================] - 1s 2ms/step - loss: 3.1922e-04 - mean_absolute_error: 0.0109 - val_loss: 3.1693e-04 - val_mean_absolute_error: 0.0106\n",
            "Epoch 31/100\n",
            "541/541 [==============================] - 1s 2ms/step - loss: 3.0900e-04 - mean_absolute_error: 0.0107 - val_loss: 3.0392e-04 - val_mean_absolute_error: 0.0103\n",
            "Epoch 32/100\n",
            "541/541 [==============================] - 1s 2ms/step - loss: 3.1608e-04 - mean_absolute_error: 0.0107 - val_loss: 4.9394e-04 - val_mean_absolute_error: 0.0145\n",
            "Epoch 33/100\n",
            "541/541 [==============================] - 1s 2ms/step - loss: 2.9887e-04 - mean_absolute_error: 0.0108 - val_loss: 3.4145e-04 - val_mean_absolute_error: 0.0107\n",
            "Epoch 34/100\n",
            "541/541 [==============================] - 1s 2ms/step - loss: 2.9561e-04 - mean_absolute_error: 0.0105 - val_loss: 3.5253e-04 - val_mean_absolute_error: 0.0116\n",
            "Epoch 35/100\n",
            "541/541 [==============================] - 1s 2ms/step - loss: 3.0943e-04 - mean_absolute_error: 0.0108 - val_loss: 3.0303e-04 - val_mean_absolute_error: 0.0105\n",
            "Epoch 36/100\n",
            "541/541 [==============================] - 1s 2ms/step - loss: 2.9121e-04 - mean_absolute_error: 0.0106 - val_loss: 2.8234e-04 - val_mean_absolute_error: 0.0101\n",
            "Epoch 37/100\n",
            "541/541 [==============================] - 1s 2ms/step - loss: 2.9433e-04 - mean_absolute_error: 0.0106 - val_loss: 3.2144e-04 - val_mean_absolute_error: 0.0111\n",
            "Epoch 38/100\n",
            "541/541 [==============================] - 1s 2ms/step - loss: 2.8846e-04 - mean_absolute_error: 0.0106 - val_loss: 3.2298e-04 - val_mean_absolute_error: 0.0111\n",
            "Epoch 39/100\n",
            "541/541 [==============================] - 1s 2ms/step - loss: 2.9334e-04 - mean_absolute_error: 0.0106 - val_loss: 2.8441e-04 - val_mean_absolute_error: 0.0100\n",
            "Epoch 40/100\n",
            "541/541 [==============================] - 1s 2ms/step - loss: 2.9759e-04 - mean_absolute_error: 0.0107 - val_loss: 3.0391e-04 - val_mean_absolute_error: 0.0101\n",
            "Epoch 41/100\n",
            "541/541 [==============================] - 1s 2ms/step - loss: 2.8226e-04 - mean_absolute_error: 0.0105 - val_loss: 2.6767e-04 - val_mean_absolute_error: 0.0099\n",
            "Epoch 42/100\n",
            "541/541 [==============================] - 1s 2ms/step - loss: 2.7384e-04 - mean_absolute_error: 0.0102 - val_loss: 3.0173e-04 - val_mean_absolute_error: 0.0098\n",
            "Epoch 43/100\n",
            "541/541 [==============================] - 1s 2ms/step - loss: 2.5480e-04 - mean_absolute_error: 0.0099 - val_loss: 2.7025e-04 - val_mean_absolute_error: 0.0098\n",
            "Epoch 44/100\n",
            "541/541 [==============================] - 1s 2ms/step - loss: 2.8545e-04 - mean_absolute_error: 0.0104 - val_loss: 2.9046e-04 - val_mean_absolute_error: 0.0104\n",
            "Epoch 45/100\n",
            "541/541 [==============================] - 1s 2ms/step - loss: 2.8061e-04 - mean_absolute_error: 0.0099 - val_loss: 2.7205e-04 - val_mean_absolute_error: 0.0096\n",
            "Epoch 46/100\n",
            "541/541 [==============================] - 1s 2ms/step - loss: 2.7314e-04 - mean_absolute_error: 0.0102 - val_loss: 3.2250e-04 - val_mean_absolute_error: 0.0110\n",
            "Epoch 47/100\n",
            "541/541 [==============================] - 1s 2ms/step - loss: 2.7811e-04 - mean_absolute_error: 0.0101 - val_loss: 2.6756e-04 - val_mean_absolute_error: 0.0095\n",
            "Epoch 48/100\n",
            "541/541 [==============================] - 1s 2ms/step - loss: 2.6943e-04 - mean_absolute_error: 0.0103 - val_loss: 2.7062e-04 - val_mean_absolute_error: 0.0098\n",
            "Epoch 49/100\n",
            "541/541 [==============================] - 1s 2ms/step - loss: 2.7266e-04 - mean_absolute_error: 0.0102 - val_loss: 2.7811e-04 - val_mean_absolute_error: 0.0101\n",
            "Epoch 50/100\n",
            "541/541 [==============================] - 1s 2ms/step - loss: 2.5947e-04 - mean_absolute_error: 0.0101 - val_loss: 2.6505e-04 - val_mean_absolute_error: 0.0096\n",
            "Epoch 51/100\n",
            "541/541 [==============================] - 1s 2ms/step - loss: 2.5037e-04 - mean_absolute_error: 0.0099 - val_loss: 2.5286e-04 - val_mean_absolute_error: 0.0095\n",
            "Epoch 52/100\n",
            "541/541 [==============================] - 1s 2ms/step - loss: 2.6741e-04 - mean_absolute_error: 0.0100 - val_loss: 2.7724e-04 - val_mean_absolute_error: 0.0097\n",
            "Epoch 53/100\n",
            "541/541 [==============================] - 1s 2ms/step - loss: 2.6104e-04 - mean_absolute_error: 0.0101 - val_loss: 2.7569e-04 - val_mean_absolute_error: 0.0102\n",
            "Epoch 54/100\n",
            "541/541 [==============================] - 1s 2ms/step - loss: 2.5423e-04 - mean_absolute_error: 0.0100 - val_loss: 2.6850e-04 - val_mean_absolute_error: 0.0098\n",
            "Epoch 55/100\n",
            "541/541 [==============================] - 1s 2ms/step - loss: 2.8345e-04 - mean_absolute_error: 0.0102 - val_loss: 2.8298e-04 - val_mean_absolute_error: 0.0099\n",
            "Epoch 56/100\n",
            "541/541 [==============================] - 1s 2ms/step - loss: 2.6697e-04 - mean_absolute_error: 0.0101 - val_loss: 2.9869e-04 - val_mean_absolute_error: 0.0102\n",
            "Epoch 57/100\n",
            "541/541 [==============================] - 1s 2ms/step - loss: 2.5644e-04 - mean_absolute_error: 0.0100 - val_loss: 2.5916e-04 - val_mean_absolute_error: 0.0094\n",
            "Epoch 58/100\n",
            "541/541 [==============================] - 1s 2ms/step - loss: 2.4821e-04 - mean_absolute_error: 0.0097 - val_loss: 2.7521e-04 - val_mean_absolute_error: 0.0099\n",
            "Epoch 59/100\n",
            "541/541 [==============================] - 1s 2ms/step - loss: 2.7444e-04 - mean_absolute_error: 0.0101 - val_loss: 2.6273e-04 - val_mean_absolute_error: 0.0096\n",
            "Epoch 60/100\n",
            "541/541 [==============================] - 1s 2ms/step - loss: 2.5915e-04 - mean_absolute_error: 0.0100 - val_loss: 2.5044e-04 - val_mean_absolute_error: 0.0095\n",
            "Epoch 61/100\n",
            "541/541 [==============================] - 1s 2ms/step - loss: 2.6164e-04 - mean_absolute_error: 0.0101 - val_loss: 3.1351e-04 - val_mean_absolute_error: 0.0100\n",
            "Epoch 62/100\n",
            "541/541 [==============================] - 1s 2ms/step - loss: 2.7527e-04 - mean_absolute_error: 0.0103 - val_loss: 2.5291e-04 - val_mean_absolute_error: 0.0095\n",
            "Epoch 63/100\n",
            "541/541 [==============================] - 1s 2ms/step - loss: 2.5763e-04 - mean_absolute_error: 0.0100 - val_loss: 2.3930e-04 - val_mean_absolute_error: 0.0092\n",
            "Epoch 64/100\n",
            "541/541 [==============================] - 1s 2ms/step - loss: 2.4989e-04 - mean_absolute_error: 0.0100 - val_loss: 2.6381e-04 - val_mean_absolute_error: 0.0094\n",
            "Epoch 65/100\n",
            "541/541 [==============================] - 1s 2ms/step - loss: 2.5817e-04 - mean_absolute_error: 0.0101 - val_loss: 2.5904e-04 - val_mean_absolute_error: 0.0097\n",
            "Epoch 66/100\n",
            "541/541 [==============================] - 1s 2ms/step - loss: 2.4072e-04 - mean_absolute_error: 0.0096 - val_loss: 2.5492e-04 - val_mean_absolute_error: 0.0094\n",
            "Epoch 67/100\n",
            "541/541 [==============================] - 1s 2ms/step - loss: 2.3144e-04 - mean_absolute_error: 0.0096 - val_loss: 2.5011e-04 - val_mean_absolute_error: 0.0093\n",
            "Epoch 68/100\n",
            "541/541 [==============================] - 1s 2ms/step - loss: 2.4929e-04 - mean_absolute_error: 0.0099 - val_loss: 3.4377e-04 - val_mean_absolute_error: 0.0124\n",
            "Epoch 69/100\n",
            "541/541 [==============================] - 1s 2ms/step - loss: 2.5416e-04 - mean_absolute_error: 0.0099 - val_loss: 2.4676e-04 - val_mean_absolute_error: 0.0093\n",
            "Epoch 70/100\n",
            "541/541 [==============================] - 1s 2ms/step - loss: 2.5139e-04 - mean_absolute_error: 0.0101 - val_loss: 2.7787e-04 - val_mean_absolute_error: 0.0101\n",
            "Epoch 71/100\n",
            "541/541 [==============================] - 1s 2ms/step - loss: 2.4523e-04 - mean_absolute_error: 0.0097 - val_loss: 2.6333e-04 - val_mean_absolute_error: 0.0098\n",
            "Epoch 72/100\n",
            "541/541 [==============================] - 1s 2ms/step - loss: 2.4295e-04 - mean_absolute_error: 0.0099 - val_loss: 2.7806e-04 - val_mean_absolute_error: 0.0103\n",
            "Epoch 73/100\n",
            "541/541 [==============================] - 1s 2ms/step - loss: 2.4511e-04 - mean_absolute_error: 0.0098 - val_loss: 2.7642e-04 - val_mean_absolute_error: 0.0105\n",
            "Epoch 74/100\n",
            "541/541 [==============================] - 1s 2ms/step - loss: 2.4791e-04 - mean_absolute_error: 0.0099 - val_loss: 2.7320e-04 - val_mean_absolute_error: 0.0094\n",
            "Epoch 75/100\n",
            "541/541 [==============================] - 1s 2ms/step - loss: 2.5457e-04 - mean_absolute_error: 0.0098 - val_loss: 2.8789e-04 - val_mean_absolute_error: 0.0100\n",
            "Epoch 76/100\n",
            "541/541 [==============================] - 1s 2ms/step - loss: 2.5236e-04 - mean_absolute_error: 0.0099 - val_loss: 2.8699e-04 - val_mean_absolute_error: 0.0110\n",
            "Epoch 77/100\n",
            "541/541 [==============================] - 1s 2ms/step - loss: 2.5465e-04 - mean_absolute_error: 0.0099 - val_loss: 2.4928e-04 - val_mean_absolute_error: 0.0095\n",
            "Epoch 78/100\n",
            "541/541 [==============================] - 1s 2ms/step - loss: 2.4876e-04 - mean_absolute_error: 0.0098 - val_loss: 2.5422e-04 - val_mean_absolute_error: 0.0095\n",
            "Epoch 79/100\n",
            "541/541 [==============================] - 1s 2ms/step - loss: 2.4791e-04 - mean_absolute_error: 0.0098 - val_loss: 2.4148e-04 - val_mean_absolute_error: 0.0091\n",
            "Epoch 80/100\n",
            "541/541 [==============================] - 1s 2ms/step - loss: 2.3136e-04 - mean_absolute_error: 0.0096 - val_loss: 2.8770e-04 - val_mean_absolute_error: 0.0104\n",
            "Epoch 81/100\n",
            "541/541 [==============================] - 1s 2ms/step - loss: 2.3563e-04 - mean_absolute_error: 0.0096 - val_loss: 3.1371e-04 - val_mean_absolute_error: 0.0103\n",
            "Epoch 82/100\n",
            "541/541 [==============================] - 1s 2ms/step - loss: 2.3802e-04 - mean_absolute_error: 0.0097 - val_loss: 2.5939e-04 - val_mean_absolute_error: 0.0102\n",
            "Epoch 83/100\n",
            "541/541 [==============================] - 1s 2ms/step - loss: 2.5887e-04 - mean_absolute_error: 0.0100 - val_loss: 2.4981e-04 - val_mean_absolute_error: 0.0094\n",
            "Epoch 84/100\n",
            "541/541 [==============================] - 1s 2ms/step - loss: 2.3802e-04 - mean_absolute_error: 0.0097 - val_loss: 3.0599e-04 - val_mean_absolute_error: 0.0112\n",
            "Epoch 85/100\n",
            "541/541 [==============================] - 1s 2ms/step - loss: 2.2570e-04 - mean_absolute_error: 0.0096 - val_loss: 2.6926e-04 - val_mean_absolute_error: 0.0096\n",
            "Epoch 86/100\n",
            "541/541 [==============================] - 1s 2ms/step - loss: 2.5331e-04 - mean_absolute_error: 0.0099 - val_loss: 2.5527e-04 - val_mean_absolute_error: 0.0093\n",
            "Epoch 87/100\n",
            "541/541 [==============================] - 1s 2ms/step - loss: 2.4048e-04 - mean_absolute_error: 0.0097 - val_loss: 2.5213e-04 - val_mean_absolute_error: 0.0094\n",
            "Epoch 88/100\n",
            "541/541 [==============================] - 1s 2ms/step - loss: 2.3977e-04 - mean_absolute_error: 0.0097 - val_loss: 2.4795e-04 - val_mean_absolute_error: 0.0096\n",
            "Epoch 89/100\n",
            "541/541 [==============================] - 1s 2ms/step - loss: 2.5129e-04 - mean_absolute_error: 0.0099 - val_loss: 2.5575e-04 - val_mean_absolute_error: 0.0096\n",
            "Epoch 90/100\n",
            "541/541 [==============================] - 1s 2ms/step - loss: 2.4024e-04 - mean_absolute_error: 0.0096 - val_loss: 2.4501e-04 - val_mean_absolute_error: 0.0091\n",
            "Epoch 91/100\n",
            "541/541 [==============================] - 1s 2ms/step - loss: 2.4082e-04 - mean_absolute_error: 0.0097 - val_loss: 2.5972e-04 - val_mean_absolute_error: 0.0095\n",
            "Epoch 92/100\n",
            "541/541 [==============================] - 1s 2ms/step - loss: 2.3645e-04 - mean_absolute_error: 0.0096 - val_loss: 2.6827e-04 - val_mean_absolute_error: 0.0095\n",
            "Epoch 93/100\n",
            "541/541 [==============================] - 1s 2ms/step - loss: 2.3469e-04 - mean_absolute_error: 0.0096 - val_loss: 2.5575e-04 - val_mean_absolute_error: 0.0098\n",
            "Epoch 94/100\n",
            "541/541 [==============================] - 1s 2ms/step - loss: 2.3411e-04 - mean_absolute_error: 0.0097 - val_loss: 2.5280e-04 - val_mean_absolute_error: 0.0093\n",
            "Epoch 95/100\n",
            "541/541 [==============================] - 1s 2ms/step - loss: 2.4038e-04 - mean_absolute_error: 0.0097 - val_loss: 2.5536e-04 - val_mean_absolute_error: 0.0092\n",
            "Epoch 96/100\n",
            "541/541 [==============================] - 1s 2ms/step - loss: 2.3799e-04 - mean_absolute_error: 0.0098 - val_loss: 2.5685e-04 - val_mean_absolute_error: 0.0095\n",
            "Epoch 97/100\n",
            "541/541 [==============================] - 1s 2ms/step - loss: 2.4626e-04 - mean_absolute_error: 0.0099 - val_loss: 2.5171e-04 - val_mean_absolute_error: 0.0091\n",
            "Epoch 98/100\n",
            "541/541 [==============================] - 1s 2ms/step - loss: 2.3346e-04 - mean_absolute_error: 0.0096 - val_loss: 3.1875e-04 - val_mean_absolute_error: 0.0105\n",
            "Epoch 99/100\n",
            "541/541 [==============================] - 1s 2ms/step - loss: 2.7306e-04 - mean_absolute_error: 0.0102 - val_loss: 2.7491e-04 - val_mean_absolute_error: 0.0096\n",
            "Epoch 100/100\n",
            "541/541 [==============================] - 1s 2ms/step - loss: 2.1769e-04 - mean_absolute_error: 0.0094 - val_loss: 3.1825e-04 - val_mean_absolute_error: 0.0108\n"
          ],
          "name": "stdout"
        },
        {
          "output_type": "execute_result",
          "data": {
            "text/plain": [
              "<tensorflow.python.keras.callbacks.History at 0x7f1ddcf418d0>"
            ]
          },
          "metadata": {
            "tags": []
          },
          "execution_count": 11
        }
      ]
    },
    {
      "cell_type": "code",
      "metadata": {
        "id": "g3ot2YgeIftP"
      },
      "source": [
        "y_test = yscaler.inverse_transform(y_test)\n",
        "prediction = yscaler.inverse_transform(model.predict(X_test))"
      ],
      "execution_count": 12,
      "outputs": []
    },
    {
      "cell_type": "code",
      "metadata": {
        "colab": {
          "base_uri": "https://localhost:8080/"
        },
        "id": "PWosZNXQIftP",
        "outputId": "b3b14505-2a3c-49c5-a753-c28eb6027dc2"
      },
      "source": [
        "error = abs(prediction - y_test)/y_test\n",
        "print(np.mean(error))"
      ],
      "execution_count": 13,
      "outputs": [
        {
          "output_type": "stream",
          "text": [
            "0.16907733238114758\n"
          ],
          "name": "stdout"
        }
      ]
    },
    {
      "cell_type": "code",
      "metadata": {
        "id": "5ML8x3Y5IftQ"
      },
      "source": [
        ""
      ],
      "execution_count": 13,
      "outputs": []
    }
  ]
}